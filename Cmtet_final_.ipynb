{
  "cells": [
    {
      "cell_type": "markdown",
      "source": [
        "**Sentiment Analysis of Code Mixed Telugu To English with Unsupervised Data Normalisation**"
      ],
      "metadata": {
        "id": "K8GUojhfJt_9"
      }
    },
    {
      "cell_type": "markdown",
      "source": [],
      "metadata": {
        "id": "FU4xvQV_LLqo"
      }
    },
    {
      "cell_type": "code",
      "execution_count": 1,
      "metadata": {
        "colab": {
          "base_uri": "https://localhost:8080/"
        },
        "id": "Q2RdomTIhvGp",
        "outputId": "98a84b32-2a59-4143-9be3-09849445d109"
      },
      "outputs": [
        {
          "output_type": "stream",
          "name": "stdout",
          "text": [
            "Collecting symspellpy\n",
            "  Downloading symspellpy-6.7.7-py3-none-any.whl (2.6 MB)\n",
            "\u001b[2K     \u001b[90m━━━━━━━━━━━━━━━━━━━━━━━━━━━━━━━━━━━━━━━━\u001b[0m \u001b[32m2.6/2.6 MB\u001b[0m \u001b[31m11.7 MB/s\u001b[0m eta \u001b[36m0:00:00\u001b[0m\n",
            "\u001b[?25hCollecting editdistpy>=0.1.3 (from symspellpy)\n",
            "  Downloading editdistpy-0.1.4.tar.gz (98 kB)\n",
            "\u001b[2K     \u001b[90m━━━━━━━━━━━━━━━━━━━━━━━━━━━━━━━━━━━━━━━━\u001b[0m \u001b[32m98.5/98.5 kB\u001b[0m \u001b[31m10.5 MB/s\u001b[0m eta \u001b[36m0:00:00\u001b[0m\n",
            "\u001b[?25h  Installing build dependencies ... \u001b[?25l\u001b[?25hdone\n",
            "  Getting requirements to build wheel ... \u001b[?25l\u001b[?25hdone\n",
            "  Preparing metadata (pyproject.toml) ... \u001b[?25l\u001b[?25hdone\n",
            "Building wheels for collected packages: editdistpy\n",
            "  Building wheel for editdistpy (pyproject.toml) ... \u001b[?25l\u001b[?25hdone\n",
            "  Created wheel for editdistpy: filename=editdistpy-0.1.4-cp310-cp310-linux_x86_64.whl size=187492 sha256=5ea021ad0ea813947e8d6b1fa7b074528670fc72615ac9c40a132a98d809aed4\n",
            "  Stored in directory: /root/.cache/pip/wheels/4c/0f/10/c20d67cd765ee5b3666d759a307241bba0663135d6ee1c0072\n",
            "Successfully built editdistpy\n",
            "Installing collected packages: editdistpy, symspellpy\n",
            "Successfully installed editdistpy-0.1.4 symspellpy-6.7.7\n"
          ]
        }
      ],
      "source": [
        "pip install symspellpy"
      ]
    },
    {
      "cell_type": "code",
      "execution_count": 2,
      "metadata": {
        "id": "6hQLVDseR8bQ"
      },
      "outputs": [],
      "source": [
        "import pkg_resources #for working with files\n",
        "from symspellpy import SymSpell, Verbosity  #spelling correction\n",
        "import re #regular expression\n",
        "# '''The \"re\" module stands for \"regular expressions,\" and it provides functions for working with regular expressions in Python.\n",
        "#  Regular expressions are powerful tools for pattern matching and text manipulation. You can use the \"re\" module to search strings,\n",
        "# replace substrings, and perform various other operations based on patterns defined by regular expressions.'''\n"
      ]
    },
    {
      "cell_type": "markdown",
      "source": [],
      "metadata": {
        "id": "QnpIKvI_PALj"
      }
    },
    {
      "cell_type": "code",
      "execution_count": 2,
      "metadata": {
        "id": "vPOAp-1pwefr"
      },
      "outputs": [],
      "source": []
    },
    {
      "cell_type": "code",
      "execution_count": 3,
      "metadata": {
        "id": "JUY3F_xJYBwI"
      },
      "outputs": [],
      "source": [
        "#r'(.)\\1+', r'\\1'\n",
        "#The r before the string ensures it's a raw string for regular expressions.\n",
        "#(.) creates a capturing group that matches any single character.\n",
        "#\\1+ matches one or more occurrences of the same character captured in the first group."
      ]
    },
    {
      "cell_type": "markdown",
      "source": [],
      "metadata": {
        "id": "yj8jCXYlQUp5"
      }
    },
    {
      "cell_type": "code",
      "execution_count": 4,
      "metadata": {
        "colab": {
          "base_uri": "https://localhost:8080/",
          "height": 35
        },
        "id": "k6sgg6MlXJko",
        "outputId": "00ec2cb4-758f-4715-e4c3-4a827e58bbce"
      },
      "outputs": [
        {
          "output_type": "execute_result",
          "data": {
            "text/plain": [
              "'helloo bagundhii, good'"
            ],
            "application/vnd.google.colaboratory.intrinsic+json": {
              "type": "string"
            }
          },
          "metadata": {},
          "execution_count": 4
        }
      ],
      "source": [
        "def elongation_normalization(text):\n",
        "  text = text.lower()\n",
        "  text = re.sub(r'(.)\\1{2,}', r\"\\1\\1\", text)\n",
        "  return text\n",
        "example = \"hellooo bagundhiiiiiii, gooood\"\n",
        "elongation_normalization(example)\n"
      ]
    },
    {
      "cell_type": "code",
      "execution_count": 5,
      "metadata": {
        "id": "kZ_KOn8qX-aO"
      },
      "outputs": [],
      "source": [
        "#SymSpell is a Python library designed to perform efficient spelling correction and fuzzy string matching.\n",
        "\n"
      ]
    },
    {
      "cell_type": "markdown",
      "source": [
        "**The Maximum edit distance determines how many edits (insertions, deletions, substitutions, or transpositions) are allowed to transform one word into another during the spelling correction process.**\n",
        "         **Frequency dictionary from packages : Defines the path to the dictionary file. This file likely contains a list of words along with their frequencies in the English language.**"
      ],
      "metadata": {
        "id": "TFl7p6aZRTWv"
      }
    },
    {
      "cell_type": "code",
      "execution_count": 6,
      "metadata": {
        "colab": {
          "base_uri": "https://localhost:8080/",
          "height": 35
        },
        "id": "AWbqoZyJhwpk",
        "outputId": "af58b3af-2f8a-4cda-e3b5-5779b728cd46"
      },
      "outputs": [
        {
          "output_type": "execute_result",
          "data": {
            "text/plain": [
              "'this is a lovely movie'"
            ],
            "application/vnd.google.colaboratory.intrinsic+json": {
              "type": "string"
            }
          },
          "metadata": {},
          "execution_count": 6
        }
      ],
      "source": [
        "#SymSpell is a Python library designed to perform efficient spelling correction and fuzzy string matching.\n",
        "#Frequency dictionary from packages : Defines the path to the dictionary file. This file likely contains a list of words\n",
        "# along with their frequencies in the English language\n",
        " # Segmentation : This method segments the input text into words and performs spelling correction on each word based on the loaded dictionary.\n",
        "\n",
        "sym_spell = SymSpell(max_dictionary_edit_distance=4)\n",
        "dictionary_path = pkg_resources.resource_filename(\"symspellpy\", \"frequency_dictionary_en_82_765.txt\")\n",
        "sym_spell.load_dictionary(dictionary_path, term_index=0, count_index=1)\n",
        "def eng_spelling_correction(text):\n",
        "  result = sym_spell.word_segmentation(text)\n",
        "  return result.corrected_string\n",
        "example = \"thsi isa a lovely movei\"\n",
        "eng_spelling_correction(example)"
      ]
    },
    {
      "cell_type": "code",
      "execution_count": 6,
      "metadata": {
        "id": "_nqLXgwsAQ0w"
      },
      "outputs": [],
      "source": []
    },
    {
      "cell_type": "code",
      "execution_count": 7,
      "metadata": {
        "colab": {
          "base_uri": "https://localhost:8080/",
          "height": 35
        },
        "id": "tV4-2efRraTb",
        "outputId": "a3c171dd-fb6d-4d1f-cdd1-a4a56a6cf4e7"
      },
      "outputs": [
        {
          "output_type": "execute_result",
          "data": {
            "text/plain": [
              "'tinava sariga'"
            ],
            "application/vnd.google.colaboratory.intrinsic+json": {
              "type": "string"
            }
          },
          "metadata": {},
          "execution_count": 7
        }
      ],
      "source": [
        "\n",
        "# Normalising Double consonants and long vowels\n",
        "def transliteration_normalization(text):\n",
        "  text = re.sub(r'(.)\\1{1,}', r\"\\1\", text)\n",
        "  return text\n",
        "example = \"tinnaavaa sarigga\"\n",
        "transliteration_normalization(example)"
      ]
    },
    {
      "cell_type": "code",
      "execution_count": 8,
      "metadata": {
        "colab": {
          "base_uri": "https://localhost:8080/",
          "height": 35
        },
        "id": "dqVX5s_CnzxN",
        "outputId": "bac1e9c1-2ec0-45c4-8c57-e1697806b164"
      },
      "outputs": [
        {
          "output_type": "execute_result",
          "data": {
            "text/plain": [
              "'tinnava jarkand'"
            ],
            "application/vnd.google.colaboratory.intrinsic+json": {
              "type": "string"
            }
          },
          "metadata": {},
          "execution_count": 8
        }
      ],
      "source": [
        "# To normalise Aspirated Consonents (like which requires burst of breath to pronounce)\n",
        "def consonant_normalization(text):\n",
        "\n",
        "  text = text.replace('kh', 'k')\n",
        "  text = text.replace('chh', 'ch')\n",
        "  text = text.replace('gh', 'g')\n",
        "  text = text.replace('th', 't')\n",
        "  text = text.replace('jh', 'j')\n",
        "  text = text.replace('dh', 'd')\n",
        "  text = text.replace('bh', 'b')\n",
        "  return text\n",
        "example = \"thinnava jharkand\"\n",
        "consonant_normalization(example)"
      ]
    },
    {
      "cell_type": "code",
      "execution_count": 9,
      "metadata": {
        "colab": {
          "base_uri": "https://localhost:8080/",
          "height": 35
        },
        "id": "_rl83AFNqRd4",
        "outputId": "28ca9501-835d-4fdf-f346-deb0e767cb5d"
      },
      "outputs": [
        {
          "output_type": "execute_result",
          "data": {
            "text/plain": [
              "'worst government . #ysrcp chala cheta ga paripalana chestumdi . '"
            ],
            "application/vnd.google.colaboratory.intrinsic+json": {
              "type": "string"
            }
          },
          "metadata": {},
          "execution_count": 9
        }
      ],
      "source": [
        "# Data_normalization takes a single argument text_tuple, which is  a list of tuples containing words and their associated languages.\n",
        "# Data_normalization function performs normalization on a list of mixed-language text, applying\n",
        "# specific normalization techniques based on the language of each word.\n",
        "def data_normalization(text_tuple):\n",
        "  text = \"\"\n",
        "  for tupl in text_tuple:\n",
        "    word = tupl[0]\n",
        "    lang = tupl[1]\n",
        "    word = elongation_normalization(word)\n",
        "    # for both languages\n",
        "    if lang == 'en': #english words\n",
        "      word = eng_spelling_correction(word)\n",
        "      text += word + \" \"\n",
        "    if lang == 'te': # telugu words\n",
        "      word = transliteration_normalization(word)\n",
        "      word = consonant_normalization(word)\n",
        "      text += word + \" \"\n",
        "    if lang == 'univ': # universal\n",
        "      text += word + \" \"\n",
        "  return text\n",
        "example = [('worstttt', 'en'), ('government', 'en'), ('.', 'univ'), ('#YSRCP', 'univ'),\n",
        "     ('chala', 'te'), ('chethha', 'te'), ('ga', 'te'), ('paripalana', 'te'), ('chesthumdhi', 'te'), ('.', 'univ')]\n",
        "data_normalization(example)"
      ]
    },
    {
      "cell_type": "code",
      "source": [],
      "metadata": {
        "id": "686dN-RwEctz"
      },
      "execution_count": 9,
      "outputs": []
    },
    {
      "cell_type": "code",
      "execution_count": 10,
      "metadata": {
        "id": "NzqJkpXbnUq2"
      },
      "outputs": [],
      "source": [
        "import numpy as np\n",
        "import pandas as pd"
      ]
    },
    {
      "cell_type": "code",
      "execution_count": 11,
      "metadata": {
        "colab": {
          "base_uri": "https://localhost:8080/",
          "height": 423
        },
        "id": "q8XSukkOP1wE",
        "outputId": "f4b5029b-a9d9-4db6-ce0c-728dd44cb731"
      },
      "outputs": [
        {
          "output_type": "execute_result",
          "data": {
            "text/plain": [
              "                                                 comment  label  Unnamed: 2\n",
              "0      2 5 5 routine revenge story engaging screen pl...     -1         NaN\n",
              "1      attlakada mana pani manam chedam inka force ok...      0         NaN\n",
              "2                          1 time watch entra movie good      1         NaN\n",
              "3             covid time lo choose vaalu like esesukondi      0         NaN\n",
              "4      puneethraj70 ya character wise rgv chala bette...      1         NaN\n",
              "...                                                  ...    ...         ...\n",
              "34583  annayya media tech processor gurinchi oka vide...      0         NaN\n",
              "34584                   theme music boyavani vetuki song      0         NaN\n",
              "34585                  brother online jobs emanna untaya      0         NaN\n",
              "34586     acting radhu kani short film kavala prema niku     -1         NaN\n",
              "34587  ayi manchi chesav im manishpandey ana nuv undi...     -1         NaN\n",
              "\n",
              "[34588 rows x 3 columns]"
            ],
            "text/html": [
              "\n",
              "  <div id=\"df-ec563ff5-db34-4a11-8ac9-bbfe9d749353\" class=\"colab-df-container\">\n",
              "    <div>\n",
              "<style scoped>\n",
              "    .dataframe tbody tr th:only-of-type {\n",
              "        vertical-align: middle;\n",
              "    }\n",
              "\n",
              "    .dataframe tbody tr th {\n",
              "        vertical-align: top;\n",
              "    }\n",
              "\n",
              "    .dataframe thead th {\n",
              "        text-align: right;\n",
              "    }\n",
              "</style>\n",
              "<table border=\"1\" class=\"dataframe\">\n",
              "  <thead>\n",
              "    <tr style=\"text-align: right;\">\n",
              "      <th></th>\n",
              "      <th>comment</th>\n",
              "      <th>label</th>\n",
              "      <th>Unnamed: 2</th>\n",
              "    </tr>\n",
              "  </thead>\n",
              "  <tbody>\n",
              "    <tr>\n",
              "      <th>0</th>\n",
              "      <td>2 5 5 routine revenge story engaging screen pl...</td>\n",
              "      <td>-1</td>\n",
              "      <td>NaN</td>\n",
              "    </tr>\n",
              "    <tr>\n",
              "      <th>1</th>\n",
              "      <td>attlakada mana pani manam chedam inka force ok...</td>\n",
              "      <td>0</td>\n",
              "      <td>NaN</td>\n",
              "    </tr>\n",
              "    <tr>\n",
              "      <th>2</th>\n",
              "      <td>1 time watch entra movie good</td>\n",
              "      <td>1</td>\n",
              "      <td>NaN</td>\n",
              "    </tr>\n",
              "    <tr>\n",
              "      <th>3</th>\n",
              "      <td>covid time lo choose vaalu like esesukondi</td>\n",
              "      <td>0</td>\n",
              "      <td>NaN</td>\n",
              "    </tr>\n",
              "    <tr>\n",
              "      <th>4</th>\n",
              "      <td>puneethraj70 ya character wise rgv chala bette...</td>\n",
              "      <td>1</td>\n",
              "      <td>NaN</td>\n",
              "    </tr>\n",
              "    <tr>\n",
              "      <th>...</th>\n",
              "      <td>...</td>\n",
              "      <td>...</td>\n",
              "      <td>...</td>\n",
              "    </tr>\n",
              "    <tr>\n",
              "      <th>34583</th>\n",
              "      <td>annayya media tech processor gurinchi oka vide...</td>\n",
              "      <td>0</td>\n",
              "      <td>NaN</td>\n",
              "    </tr>\n",
              "    <tr>\n",
              "      <th>34584</th>\n",
              "      <td>theme music boyavani vetuki song</td>\n",
              "      <td>0</td>\n",
              "      <td>NaN</td>\n",
              "    </tr>\n",
              "    <tr>\n",
              "      <th>34585</th>\n",
              "      <td>brother online jobs emanna untaya</td>\n",
              "      <td>0</td>\n",
              "      <td>NaN</td>\n",
              "    </tr>\n",
              "    <tr>\n",
              "      <th>34586</th>\n",
              "      <td>acting radhu kani short film kavala prema niku</td>\n",
              "      <td>-1</td>\n",
              "      <td>NaN</td>\n",
              "    </tr>\n",
              "    <tr>\n",
              "      <th>34587</th>\n",
              "      <td>ayi manchi chesav im manishpandey ana nuv undi...</td>\n",
              "      <td>-1</td>\n",
              "      <td>NaN</td>\n",
              "    </tr>\n",
              "  </tbody>\n",
              "</table>\n",
              "<p>34588 rows × 3 columns</p>\n",
              "</div>\n",
              "    <div class=\"colab-df-buttons\">\n",
              "\n",
              "  <div class=\"colab-df-container\">\n",
              "    <button class=\"colab-df-convert\" onclick=\"convertToInteractive('df-ec563ff5-db34-4a11-8ac9-bbfe9d749353')\"\n",
              "            title=\"Convert this dataframe to an interactive table.\"\n",
              "            style=\"display:none;\">\n",
              "\n",
              "  <svg xmlns=\"http://www.w3.org/2000/svg\" height=\"24px\" viewBox=\"0 -960 960 960\">\n",
              "    <path d=\"M120-120v-720h720v720H120Zm60-500h600v-160H180v160Zm220 220h160v-160H400v160Zm0 220h160v-160H400v160ZM180-400h160v-160H180v160Zm440 0h160v-160H620v160ZM180-180h160v-160H180v160Zm440 0h160v-160H620v160Z\"/>\n",
              "  </svg>\n",
              "    </button>\n",
              "\n",
              "  <style>\n",
              "    .colab-df-container {\n",
              "      display:flex;\n",
              "      gap: 12px;\n",
              "    }\n",
              "\n",
              "    .colab-df-convert {\n",
              "      background-color: #E8F0FE;\n",
              "      border: none;\n",
              "      border-radius: 50%;\n",
              "      cursor: pointer;\n",
              "      display: none;\n",
              "      fill: #1967D2;\n",
              "      height: 32px;\n",
              "      padding: 0 0 0 0;\n",
              "      width: 32px;\n",
              "    }\n",
              "\n",
              "    .colab-df-convert:hover {\n",
              "      background-color: #E2EBFA;\n",
              "      box-shadow: 0px 1px 2px rgba(60, 64, 67, 0.3), 0px 1px 3px 1px rgba(60, 64, 67, 0.15);\n",
              "      fill: #174EA6;\n",
              "    }\n",
              "\n",
              "    .colab-df-buttons div {\n",
              "      margin-bottom: 4px;\n",
              "    }\n",
              "\n",
              "    [theme=dark] .colab-df-convert {\n",
              "      background-color: #3B4455;\n",
              "      fill: #D2E3FC;\n",
              "    }\n",
              "\n",
              "    [theme=dark] .colab-df-convert:hover {\n",
              "      background-color: #434B5C;\n",
              "      box-shadow: 0px 1px 3px 1px rgba(0, 0, 0, 0.15);\n",
              "      filter: drop-shadow(0px 1px 2px rgba(0, 0, 0, 0.3));\n",
              "      fill: #FFFFFF;\n",
              "    }\n",
              "  </style>\n",
              "\n",
              "    <script>\n",
              "      const buttonEl =\n",
              "        document.querySelector('#df-ec563ff5-db34-4a11-8ac9-bbfe9d749353 button.colab-df-convert');\n",
              "      buttonEl.style.display =\n",
              "        google.colab.kernel.accessAllowed ? 'block' : 'none';\n",
              "\n",
              "      async function convertToInteractive(key) {\n",
              "        const element = document.querySelector('#df-ec563ff5-db34-4a11-8ac9-bbfe9d749353');\n",
              "        const dataTable =\n",
              "          await google.colab.kernel.invokeFunction('convertToInteractive',\n",
              "                                                    [key], {});\n",
              "        if (!dataTable) return;\n",
              "\n",
              "        const docLinkHtml = 'Like what you see? Visit the ' +\n",
              "          '<a target=\"_blank\" href=https://colab.research.google.com/notebooks/data_table.ipynb>data table notebook</a>'\n",
              "          + ' to learn more about interactive tables.';\n",
              "        element.innerHTML = '';\n",
              "        dataTable['output_type'] = 'display_data';\n",
              "        await google.colab.output.renderOutput(dataTable, element);\n",
              "        const docLink = document.createElement('div');\n",
              "        docLink.innerHTML = docLinkHtml;\n",
              "        element.appendChild(docLink);\n",
              "      }\n",
              "    </script>\n",
              "  </div>\n",
              "\n",
              "\n",
              "<div id=\"df-99d66af0-9c33-4005-a1a9-fd09aa85b5bd\">\n",
              "  <button class=\"colab-df-quickchart\" onclick=\"quickchart('df-99d66af0-9c33-4005-a1a9-fd09aa85b5bd')\"\n",
              "            title=\"Suggest charts\"\n",
              "            style=\"display:none;\">\n",
              "\n",
              "<svg xmlns=\"http://www.w3.org/2000/svg\" height=\"24px\"viewBox=\"0 0 24 24\"\n",
              "     width=\"24px\">\n",
              "    <g>\n",
              "        <path d=\"M19 3H5c-1.1 0-2 .9-2 2v14c0 1.1.9 2 2 2h14c1.1 0 2-.9 2-2V5c0-1.1-.9-2-2-2zM9 17H7v-7h2v7zm4 0h-2V7h2v10zm4 0h-2v-4h2v4z\"/>\n",
              "    </g>\n",
              "</svg>\n",
              "  </button>\n",
              "\n",
              "<style>\n",
              "  .colab-df-quickchart {\n",
              "      --bg-color: #E8F0FE;\n",
              "      --fill-color: #1967D2;\n",
              "      --hover-bg-color: #E2EBFA;\n",
              "      --hover-fill-color: #174EA6;\n",
              "      --disabled-fill-color: #AAA;\n",
              "      --disabled-bg-color: #DDD;\n",
              "  }\n",
              "\n",
              "  [theme=dark] .colab-df-quickchart {\n",
              "      --bg-color: #3B4455;\n",
              "      --fill-color: #D2E3FC;\n",
              "      --hover-bg-color: #434B5C;\n",
              "      --hover-fill-color: #FFFFFF;\n",
              "      --disabled-bg-color: #3B4455;\n",
              "      --disabled-fill-color: #666;\n",
              "  }\n",
              "\n",
              "  .colab-df-quickchart {\n",
              "    background-color: var(--bg-color);\n",
              "    border: none;\n",
              "    border-radius: 50%;\n",
              "    cursor: pointer;\n",
              "    display: none;\n",
              "    fill: var(--fill-color);\n",
              "    height: 32px;\n",
              "    padding: 0;\n",
              "    width: 32px;\n",
              "  }\n",
              "\n",
              "  .colab-df-quickchart:hover {\n",
              "    background-color: var(--hover-bg-color);\n",
              "    box-shadow: 0 1px 2px rgba(60, 64, 67, 0.3), 0 1px 3px 1px rgba(60, 64, 67, 0.15);\n",
              "    fill: var(--button-hover-fill-color);\n",
              "  }\n",
              "\n",
              "  .colab-df-quickchart-complete:disabled,\n",
              "  .colab-df-quickchart-complete:disabled:hover {\n",
              "    background-color: var(--disabled-bg-color);\n",
              "    fill: var(--disabled-fill-color);\n",
              "    box-shadow: none;\n",
              "  }\n",
              "\n",
              "  .colab-df-spinner {\n",
              "    border: 2px solid var(--fill-color);\n",
              "    border-color: transparent;\n",
              "    border-bottom-color: var(--fill-color);\n",
              "    animation:\n",
              "      spin 1s steps(1) infinite;\n",
              "  }\n",
              "\n",
              "  @keyframes spin {\n",
              "    0% {\n",
              "      border-color: transparent;\n",
              "      border-bottom-color: var(--fill-color);\n",
              "      border-left-color: var(--fill-color);\n",
              "    }\n",
              "    20% {\n",
              "      border-color: transparent;\n",
              "      border-left-color: var(--fill-color);\n",
              "      border-top-color: var(--fill-color);\n",
              "    }\n",
              "    30% {\n",
              "      border-color: transparent;\n",
              "      border-left-color: var(--fill-color);\n",
              "      border-top-color: var(--fill-color);\n",
              "      border-right-color: var(--fill-color);\n",
              "    }\n",
              "    40% {\n",
              "      border-color: transparent;\n",
              "      border-right-color: var(--fill-color);\n",
              "      border-top-color: var(--fill-color);\n",
              "    }\n",
              "    60% {\n",
              "      border-color: transparent;\n",
              "      border-right-color: var(--fill-color);\n",
              "    }\n",
              "    80% {\n",
              "      border-color: transparent;\n",
              "      border-right-color: var(--fill-color);\n",
              "      border-bottom-color: var(--fill-color);\n",
              "    }\n",
              "    90% {\n",
              "      border-color: transparent;\n",
              "      border-bottom-color: var(--fill-color);\n",
              "    }\n",
              "  }\n",
              "</style>\n",
              "\n",
              "  <script>\n",
              "    async function quickchart(key) {\n",
              "      const quickchartButtonEl =\n",
              "        document.querySelector('#' + key + ' button');\n",
              "      quickchartButtonEl.disabled = true;  // To prevent multiple clicks.\n",
              "      quickchartButtonEl.classList.add('colab-df-spinner');\n",
              "      try {\n",
              "        const charts = await google.colab.kernel.invokeFunction(\n",
              "            'suggestCharts', [key], {});\n",
              "      } catch (error) {\n",
              "        console.error('Error during call to suggestCharts:', error);\n",
              "      }\n",
              "      quickchartButtonEl.classList.remove('colab-df-spinner');\n",
              "      quickchartButtonEl.classList.add('colab-df-quickchart-complete');\n",
              "    }\n",
              "    (() => {\n",
              "      let quickchartButtonEl =\n",
              "        document.querySelector('#df-99d66af0-9c33-4005-a1a9-fd09aa85b5bd button');\n",
              "      quickchartButtonEl.style.display =\n",
              "        google.colab.kernel.accessAllowed ? 'block' : 'none';\n",
              "    })();\n",
              "  </script>\n",
              "</div>\n",
              "    </div>\n",
              "  </div>\n"
            ],
            "application/vnd.google.colaboratory.intrinsic+json": {
              "type": "dataframe",
              "variable_name": "data",
              "summary": "{\n  \"name\": \"data\",\n  \"rows\": 34588,\n  \"fields\": [\n    {\n      \"column\": \"comment\",\n      \"properties\": {\n        \"dtype\": \"string\",\n        \"num_unique_values\": 33352,\n        \"samples\": [\n          \"waiting video non spoiler review rr\",\n          \"concept nice dop good\",\n          \"reviews macrame kakunda videos lo kuda ni voice chepte better\"\n        ],\n        \"semantic_type\": \"\",\n        \"description\": \"\"\n      }\n    },\n    {\n      \"column\": \"label\",\n      \"properties\": {\n        \"dtype\": \"number\",\n        \"std\": 0,\n        \"min\": -1,\n        \"max\": 1,\n        \"num_unique_values\": 3,\n        \"samples\": [\n          -1,\n          0,\n          1\n        ],\n        \"semantic_type\": \"\",\n        \"description\": \"\"\n      }\n    },\n    {\n      \"column\": \"Unnamed: 2\",\n      \"properties\": {\n        \"dtype\": \"number\",\n        \"std\": null,\n        \"min\": null,\n        \"max\": null,\n        \"num_unique_values\": 0,\n        \"samples\": [],\n        \"semantic_type\": \"\",\n        \"description\": \"\"\n      }\n    }\n  ]\n}"
            }
          },
          "metadata": {},
          "execution_count": 11
        }
      ],
      "source": [
        "\n",
        "data = pd.read_csv('/content/34k_Code_Mixed_Tel-Eng.csv')\n",
        "# data.label = data.label.map({'NEG':0, 'POS':2,'NTL':1})\n",
        "data"
      ]
    },
    {
      "cell_type": "code",
      "source": [
        "data.shape"
      ],
      "metadata": {
        "colab": {
          "base_uri": "https://localhost:8080/"
        },
        "id": "-fEnhnzxaPTH",
        "outputId": "ab81a2f1-c2ed-469d-a94a-e10cc0aded7f"
      },
      "execution_count": 12,
      "outputs": [
        {
          "output_type": "execute_result",
          "data": {
            "text/plain": [
              "(34588, 3)"
            ]
          },
          "metadata": {},
          "execution_count": 12
        }
      ]
    },
    {
      "cell_type": "code",
      "source": [
        "num_rows = len(data)\n",
        "\n",
        "# Print the number of rows\n",
        "print(\"Number of rows:\", num_rows)"
      ],
      "metadata": {
        "colab": {
          "base_uri": "https://localhost:8080/"
        },
        "id": "fJ1HbYYHRZRM",
        "outputId": "b11a398b-9b93-4f0c-91ee-91b23295a1e8"
      },
      "execution_count": 13,
      "outputs": [
        {
          "output_type": "stream",
          "name": "stdout",
          "text": [
            "Number of rows: 34588\n"
          ]
        }
      ]
    },
    {
      "cell_type": "code",
      "source": [
        "# Assuming `data` is your DataFrame and 'label' is the column containing the labels\n",
        "# Replace the labels -1, 0, 1 with 0, 1, 2 respectively\n",
        "data['label'] = data['label'].replace({-1: 0, 0: 1, 1: 2})\n",
        "\n",
        "# Verify the changes\n",
        "print(data['label'].unique())"
      ],
      "metadata": {
        "colab": {
          "base_uri": "https://localhost:8080/"
        },
        "id": "LcLopEsztmuj",
        "outputId": "67be781d-1bf9-456b-ad2e-392ce8227208"
      },
      "execution_count": 14,
      "outputs": [
        {
          "output_type": "stream",
          "name": "stdout",
          "text": [
            "[0 1 2]\n"
          ]
        }
      ]
    },
    {
      "cell_type": "code",
      "source": [
        "column_name_to_delete = 'Unnamed: 2'\n",
        "data.drop(columns=[column_name_to_delete], inplace=True)"
      ],
      "metadata": {
        "id": "W8NZzCmpoqDF"
      },
      "execution_count": 15,
      "outputs": []
    },
    {
      "cell_type": "code",
      "source": [
        "# Get the list of column names\n",
        "columns = data.columns\n",
        "\n",
        "# Print the list of column names\n",
        "print(columns)"
      ],
      "metadata": {
        "colab": {
          "base_uri": "https://localhost:8080/"
        },
        "id": "nmXiAMGYmVX-",
        "outputId": "5a42379e-6d72-4f20-b5bd-a1535b17f4cc"
      },
      "execution_count": 16,
      "outputs": [
        {
          "output_type": "stream",
          "name": "stdout",
          "text": [
            "Index(['comment', 'label'], dtype='object')\n"
          ]
        }
      ]
    },
    {
      "cell_type": "code",
      "execution_count": 17,
      "metadata": {
        "colab": {
          "base_uri": "https://localhost:8080/"
        },
        "id": "Pgntxn34EJKa",
        "outputId": "7c6c6dd2-71de-4c52-89de-9fe84b2248b8"
      },
      "outputs": [
        {
          "output_type": "stream",
          "name": "stderr",
          "text": [
            "[nltk_data] Downloading package stopwords to /root/nltk_data...\n",
            "[nltk_data]   Unzipping corpora/stopwords.zip.\n"
          ]
        },
        {
          "output_type": "execute_result",
          "data": {
            "text/plain": [
              "True"
            ]
          },
          "metadata": {},
          "execution_count": 17
        }
      ],
      "source": [
        "# NLTK is a powerful library for natural language processing tasks in Python.\n",
        "# it imports NLTK and downloads the stopwords corpus, which contains common words (e.g., \"the\", \"is\", \"and\")\n",
        "#  that are often removed from text during preprocessing to focus on more meaningful words.\n",
        "import nltk\n",
        "from nltk.corpus import stopwords\n",
        "nltk.download('stopwords')"
      ]
    },
    {
      "cell_type": "code",
      "execution_count": 18,
      "metadata": {
        "colab": {
          "base_uri": "https://localhost:8080/"
        },
        "id": "jTSMQmWaEYHr",
        "outputId": "d9152300-114f-4f91-9e82-2ef14153ab11"
      },
      "outputs": [
        {
          "output_type": "stream",
          "name": "stdout",
          "text": [
            "{\"won't\", \"didn't\", \"weren't\", \"doesn't\", \"aren't\", \"mightn't\", \"shouldn't\", \"isn't\", \"mustn't\", \"don't\", 'not', \"couldn't\", \"wouldn't\", 'no', \"needn't\", \"hasn't\", \"wasn't\", 'now', \"haven't\", \"shan't\", 'nor', \"hadn't\"}\n"
          ]
        }
      ],
      "source": [
        "# the stopwords corpus, which contains common words (e.g., \"the\", \"is\", \"and\")\n",
        "#  that are often removed from text during preprocessing to focus on more meaningful words.\n",
        "stop_words = set(stopwords.words('english'))\n",
        "#print(stop_words)\n",
        "# removing words like no,not,didn`t..etc from stop words\n",
        "black_list = set(word for word in stop_words if 'no' in word or \"'t\" in word)\n",
        "print(black_list)\n",
        "stop_words = stop_words - black_list"
      ]
    },
    {
      "cell_type": "code",
      "execution_count": 19,
      "metadata": {
        "colab": {
          "base_uri": "https://localhost:8080/"
        },
        "id": "w-pfuDRE8REa",
        "outputId": "4299bfc0-70a7-49de-b33d-29fd2fb7ffc6"
      },
      "outputs": [
        {
          "output_type": "stream",
          "name": "stdout",
          "text": [
            "2.15.0\n"
          ]
        },
        {
          "output_type": "stream",
          "name": "stderr",
          "text": [
            "[nltk_data] Downloading package stopwords to /root/nltk_data...\n",
            "[nltk_data]   Package stopwords is already up-to-date!\n"
          ]
        }
      ],
      "source": [
        "import pandas as pd\n",
        "import numpy as np\n",
        "import matplotlib.pyplot as plt\n",
        "import seaborn as sns\n",
        "import tensorflow as tf\n",
        "import nltk\n",
        "from nltk.corpus import stopwords\n",
        "nltk.download('stopwords')\n",
        "print(tf.__version__)\n",
        "import os\n",
        "\n",
        "os.environ['TF_CPP_MIN_LOG_LEVEL'] = '2'\n",
        "tf.random.set_seed(0)\n",
        "\n",
        "from tensorflow.keras.preprocessing.text import Tokenizer\n",
        "from tensorflow.keras.preprocessing.sequence import pad_sequences\n",
        "from tensorflow.keras.models import Sequential\n",
        "from tensorflow.keras.layers import Dense, Embedding, Dropout, SimpleRNN\n",
        "from tensorflow.keras.layers import LSTM, Bidirectional\n",
        "\n",
        "from sklearn.model_selection import train_test_split\n",
        "from sklearn.preprocessing import LabelBinarizer\n",
        "from tensorflow.keras.optimizers import Adam\n",
        "from tensorflow.keras.callbacks import EarlyStopping, ModelCheckpoint\n",
        "import os\n",
        "from sklearn import metrics"
      ]
    },
    {
      "cell_type": "code",
      "execution_count": 20,
      "metadata": {
        "id": "kW_KM1Tz8ZcV"
      },
      "outputs": [],
      "source": [
        "vocab_size = 5000\n",
        "embedding_dim = 300\n",
        "max_len = 25\n",
        "\n",
        "batch_size=128\n",
        "epochs=30\n",
        "\n",
        "tokenizer = Tokenizer(num_words=vocab_size, oov_token=\"\", lower=True)\n",
        "binarizer = LabelBinarizer()"
      ]
    },
    {
      "cell_type": "code",
      "execution_count": 21,
      "metadata": {
        "colab": {
          "base_uri": "https://localhost:8080/"
        },
        "id": "ah7mdDGlQDvm",
        "outputId": "edb86994-f5ee-4d06-b922-df11b08ea277"
      },
      "outputs": [
        {
          "output_type": "stream",
          "name": "stdout",
          "text": [
            "[83, 213, 213, 917, 3367, 65, 1, 395, 434, 669, 1]\n",
            "[  1   1   1 537   1   1 651 368   1   1   1   0   0   0   0   0   0   0\n",
            "   0   0   0   0   0   0   0]\n"
          ]
        }
      ],
      "source": [
        "\n",
        "data.fillna('', inplace=True)\n",
        "labels = data.label.tolist()\n",
        "sentences = data.comment.tolist()\n",
        "_= tokenizer.fit_on_texts(sentences)\n",
        "sequences = tokenizer.texts_to_sequences(sentences) # This line converts the text sentences into sequences of numbers using the fitted tokenizer.\n",
        "# Each word in the sentences is replaced by its corresponding index in the tokenizer's word index\n",
        "print(sequences[0])\n",
        "padded_sequences = pad_sequences(sequences, padding='post', maxlen=max_len)\n",
        "x_train, x_test, y_train, y_test = train_test_split(\n",
        "    padded_sequences, labels, stratify=labels, test_size=0.2, random_state=101)\n",
        "\n",
        "y_train_true = y_train.copy()\n",
        "y_test_true = y_test.copy()\n",
        "\n",
        "y_train = binarizer.fit_transform(y_train)\n",
        "print(x_train[0])\n",
        "y_test = binarizer.fit_transform(y_test)"
      ]
    },
    {
      "cell_type": "code",
      "execution_count": 22,
      "metadata": {
        "id": "Lzd52DX1QFnV"
      },
      "outputs": [],
      "source": [
        "def simple_rnn():\n",
        "    model = Sequential()\n",
        "    model.add(Embedding(input_dim=vocab_size, output_dim=embedding_dim, input_length=max_len))\n",
        "    model.add(SimpleRNN(512, return_sequences=True))\n",
        "\n",
        "    model.add(SimpleRNN(256))\n",
        "    model.add(Dropout(0.3))\n",
        "    model.add(Dense(3, activation='softmax'))\n",
        "    model.compile(loss='categorical_crossentropy', optimizer=Adam(0.0001), metrics='accuracy')\n",
        "    return model"
      ]
    },
    {
      "cell_type": "code",
      "execution_count": 23,
      "metadata": {
        "id": "ViaCLaT8Qjrs"
      },
      "outputs": [],
      "source": [
        "# Plot history:\n",
        "def plot_history(history):\n",
        "    plt.figure()\n",
        "    plt.plot(history.history['loss'], label='training data')\n",
        "    plt.plot(history.history['val_loss'], label='validation data')\n",
        "    plt.title('LOSS')\n",
        "    plt.ylabel('Loss')\n",
        "    plt.xlabel('No. epoch')\n",
        "    plt.legend(loc=\"upper left\")\n",
        "\n",
        "    # Plot history: Acc\n",
        "    plt.figure()\n",
        "    plt.plot(history.history['accuracy'], label='training data')\n",
        "    plt.plot(history.history['val_accuracy'], label='validation data')\n",
        "    plt.title('ACCURACY')\n",
        "    plt.ylabel('Accuracy')\n",
        "    plt.xlabel('No. epoch')\n",
        "    plt.legend(loc=\"upper left\")\n",
        "    plt.show()\n",
        "\n",
        "\n",
        "def evaluate_model(trained_model, y_test_true):\n",
        "    y_test_preds = trained_model.predict(x_test)\n",
        "    y_test_preds = np.argmax(y_test_preds, axis=1)\n",
        "\n",
        "    print(metrics.classification_report(y_test_true, y_test_preds))\n",
        "\n",
        "    cm = metrics.confusion_matrix(y_test_true, y_test_preds, normalize='true')\n",
        "    sns.heatmap(cm, annot=True, cbar=None, cmap='viridis')\n",
        "    plt.show()\n",
        "    f1 = metrics.f1_score(y_test_true, y_test_preds, average='macro')\n",
        "    return f1"
      ]
    },
    {
      "cell_type": "code",
      "execution_count": 24,
      "metadata": {
        "id": "S9z9KiA3Quyz",
        "colab": {
          "base_uri": "https://localhost:8080/",
          "height": 1000
        },
        "outputId": "224af453-1bdd-46c1-d235-43543fa8da71"
      },
      "outputs": [
        {
          "output_type": "stream",
          "name": "stdout",
          "text": [
            "Epoch 1/30\n",
            "217/217 [==============================] - 52s 197ms/step - loss: 0.7800 - accuracy: 0.6648 - val_loss: 0.5916 - val_accuracy: 0.7705\n",
            "Epoch 2/30\n"
          ]
        },
        {
          "output_type": "stream",
          "name": "stderr",
          "text": [
            "/usr/local/lib/python3.10/dist-packages/keras/src/engine/training.py:3103: UserWarning: You are saving your model as an HDF5 file via `model.save()`. This file format is considered legacy. We recommend using instead the native Keras format, e.g. `model.save('my_model.keras')`.\n",
            "  saving_api.save_model(\n"
          ]
        },
        {
          "output_type": "stream",
          "name": "stdout",
          "text": [
            "217/217 [==============================] - 17s 80ms/step - loss: 0.5139 - accuracy: 0.8070 - val_loss: 0.5561 - val_accuracy: 0.7892\n",
            "Epoch 3/30\n",
            "217/217 [==============================] - 14s 65ms/step - loss: 0.4212 - accuracy: 0.8454 - val_loss: 0.5690 - val_accuracy: 0.7923\n",
            "Epoch 4/30\n",
            "217/217 [==============================] - 13s 60ms/step - loss: 0.3535 - accuracy: 0.8716 - val_loss: 0.6168 - val_accuracy: 0.7791\n",
            "Epoch 5/30\n",
            "217/217 [==============================] - 18s 84ms/step - loss: 0.2857 - accuracy: 0.8995 - val_loss: 0.6738 - val_accuracy: 0.7759\n"
          ]
        },
        {
          "output_type": "display_data",
          "data": {
            "text/plain": [
              "<Figure size 640x480 with 1 Axes>"
            ],
            "image/png": "[encoded data removed]"
          },
          "metadata": {}
        },
        {
          "output_type": "display_data",
          "data": {
            "text/plain": [
              "<Figure size 640x480 with 1 Axes>"
            ],
            "image/png": "[encoded data removed]"
          },
          "metadata": {}
        },
        {
          "output_type": "stream",
          "name": "stdout",
          "text": [
            "217/217 [==============================] - 2s 8ms/step\n",
            "              precision    recall  f1-score   support\n",
            "\n",
            "           0       0.78      0.78      0.78      2517\n",
            "           1       0.77      0.74      0.75      2189\n",
            "           2       0.78      0.81      0.79      2212\n",
            "\n",
            "    accuracy                           0.78      6918\n",
            "   macro avg       0.78      0.78      0.78      6918\n",
            "weighted avg       0.78      0.78      0.78      6918\n",
            "\n"
          ]
        },
        {
          "output_type": "display_data",
          "data": {
            "text/plain": [
              "<Figure size 640x480 with 1 Axes>"
            ],
            "image/png": "[encoded data removed]"
          },
          "metadata": {}
        },
        {
          "output_type": "stream",
          "name": "stdout",
          "text": [
            "f1 score 0.7754236396728954\n"
          ]
        }
      ],
      "source": [
        "rnn_model = simple_rnn()\n",
        "checkpoint_path=\"simple_rnn_model.h5\"\n",
        "keras_callbacks   = [\n",
        "      EarlyStopping(monitor='val_loss', patience=3, mode='min', min_delta=0.0001),\n",
        "      ModelCheckpoint(checkpoint_path, monitor='val_loss', save_best_only=True, mode='min')\n",
        "]\n",
        "history = rnn_model.fit(\n",
        "    x_train, y_train, batch_size=batch_size, epochs=epochs, validation_data=(x_test, y_test), callbacks=keras_callbacks)\n",
        "plot_history(history)\n",
        "f1 = evaluate_model(rnn_model, y_test_true)\n",
        "print(\"f1 score\", f1)"
      ]
    },
    {
      "cell_type": "code",
      "execution_count": 25,
      "metadata": {
        "id": "ihKPOoqORAVp",
        "colab": {
          "base_uri": "https://localhost:8080/"
        },
        "outputId": "0aae5ef1-34ec-42b1-aca5-2df998c10edb"
      },
      "outputs": [
        {
          "output_type": "stream",
          "name": "stdout",
          "text": [
            "[[ 130   33  254   29 2166   17  179   12    1    0    0    0    0    0\n",
            "     0    0    0    0    0    0    0    0    0    0    0]]\n"
          ]
        }
      ],
      "source": [
        "sentence = \"vadu manchi director em kaadu, oka hit kuda leduu\"\n",
        "\n",
        "# Convert the single sentence into a list with one element\n",
        "single_sentence_list = [sentence]\n",
        "\n",
        "# Convert the sentence into sequences of integers\n",
        "single_sentence_sequence = tokenizer.texts_to_sequences(single_sentence_list)\n",
        "\n",
        "# Pad the sequence to ensure fixed length\n",
        "padded_single_sequence = pad_sequences(single_sentence_sequence, padding='post', maxlen=max_len)\n",
        "print(padded_single_sequence)"
      ]
    },
    {
      "cell_type": "code",
      "source": [
        "# code for lstm implentation of above one\n",
        "from keras.models import Sequential\n",
        "from keras.layers import Embedding, LSTM, Dropout, Dense\n",
        "from keras.optimizers import Adam\n",
        "from keras.callbacks import EarlyStopping, ModelCheckpoint\n",
        "from sklearn.model_selection import train_test_split\n",
        "vocab_size = 5000\n",
        "embedding_dim = 300\n",
        "max_len = 25\n",
        "\n",
        "def lstm_model():\n",
        "    model = Sequential()\n",
        "    model.add(Embedding(input_dim = vocab_size, output_dim=embedding_dim, input_length=max_len))\n",
        "    model.add(LSTM(128, return_sequences=True))\n",
        "    model.add(LSTM(128))\n",
        "    model.add(Dropout(0.3))\n",
        "    model.add(Dense(3, activation='softmax'))\n",
        "    model.compile(loss='categorical_crossentropy', optimizer=Adam(0.0001), metrics='accuracy')\n",
        "    return model\n",
        "lstm_model = lstm_model()\n",
        "checkpoint_path=\"lstm_model.h5\"\n",
        "keras_callbacks   = [\n",
        "      EarlyStopping(monitor='val_loss', patience=3, mode='min', min_delta=0.0001),\n",
        "      ModelCheckpoint(checkpoint_path, monitor='val_loss', save_best_only=True, mode='min')\n",
        "]\n",
        "history = lstm_model.fit(x_train, y_train, batch_size=batch_size, epochs=epochs, validation_data=(x_test, y_test), callbacks=keras_callbacks)\n",
        "plot_history(history)\n",
        "f1 = evaluate_model(lstm_model, y_test_true)\n",
        "print(\"f1 score\", f1)\n"
      ],
      "metadata": {
        "colab": {
          "base_uri": "https://localhost:8080/",
          "height": 1000
        },
        "id": "fGevOr4L3vIc",
        "outputId": "9dc72f05-3e5c-474c-c3da-21446a288248"
      },
      "execution_count": 26,
      "outputs": [
        {
          "output_type": "stream",
          "name": "stdout",
          "text": [
            "Epoch 1/30\n",
            "217/217 [==============================] - 18s 66ms/step - loss: 0.9252 - accuracy: 0.5319 - val_loss: 0.6969 - val_accuracy: 0.7115\n",
            "Epoch 2/30\n",
            "  2/217 [..............................] - ETA: 21s - loss: 0.6477 - accuracy: 0.7461"
          ]
        },
        {
          "output_type": "stream",
          "name": "stderr",
          "text": [
            "/usr/local/lib/python3.10/dist-packages/keras/src/engine/training.py:3103: UserWarning: You are saving your model as an HDF5 file via `model.save()`. This file format is considered legacy. We recommend using instead the native Keras format, e.g. `model.save('my_model.keras')`.\n",
            "  saving_api.save_model(\n"
          ]
        },
        {
          "output_type": "stream",
          "name": "stdout",
          "text": [
            "217/217 [==============================] - 6s 26ms/step - loss: 0.6289 - accuracy: 0.7528 - val_loss: 0.6193 - val_accuracy: 0.7530\n",
            "Epoch 3/30\n",
            "217/217 [==============================] - 3s 15ms/step - loss: 0.5389 - accuracy: 0.7967 - val_loss: 0.5360 - val_accuracy: 0.7978\n",
            "Epoch 4/30\n",
            "217/217 [==============================] - 3s 12ms/step - loss: 0.4532 - accuracy: 0.8326 - val_loss: 0.5356 - val_accuracy: 0.7989\n",
            "Epoch 5/30\n",
            "217/217 [==============================] - 3s 14ms/step - loss: 0.4102 - accuracy: 0.8515 - val_loss: 0.5292 - val_accuracy: 0.7997\n",
            "Epoch 6/30\n",
            "217/217 [==============================] - 3s 16ms/step - loss: 0.3848 - accuracy: 0.8621 - val_loss: 0.5579 - val_accuracy: 0.8002\n",
            "Epoch 7/30\n",
            "217/217 [==============================] - 2s 10ms/step - loss: 0.3644 - accuracy: 0.8719 - val_loss: 0.5692 - val_accuracy: 0.7939\n",
            "Epoch 8/30\n",
            "217/217 [==============================] - 2s 11ms/step - loss: 0.3487 - accuracy: 0.8785 - val_loss: 0.5825 - val_accuracy: 0.7869\n"
          ]
        },
        {
          "output_type": "display_data",
          "data": {
            "text/plain": [
              "<Figure size 640x480 with 1 Axes>"
            ],
            "image/png": "[encoded data removed]"
          },
          "metadata": {}
        },
        {
          "output_type": "display_data",
          "data": {
            "text/plain": [
              "<Figure size 640x480 with 1 Axes>"
            ],
            "image/png": "[encoded data removed]"
          },
          "metadata": {}
        },
        {
          "output_type": "stream",
          "name": "stdout",
          "text": [
            "217/217 [==============================] - 1s 3ms/step\n",
            "              precision    recall  f1-score   support\n",
            "\n",
            "           0       0.83      0.76      0.79      2517\n",
            "           1       0.74      0.79      0.76      2189\n",
            "           2       0.80      0.81      0.81      2212\n",
            "\n",
            "    accuracy                           0.79      6918\n",
            "   macro avg       0.79      0.79      0.79      6918\n",
            "weighted avg       0.79      0.79      0.79      6918\n",
            "\n"
          ]
        },
        {
          "output_type": "display_data",
          "data": {
            "text/plain": [
              "<Figure size 640x480 with 1 Axes>"
            ],
            "image/png": "[encoded data removed]"
          },
          "metadata": {}
        },
        {
          "output_type": "stream",
          "name": "stdout",
          "text": [
            "f1 score 0.7869907242905857\n"
          ]
        }
      ]
    },
    {
      "cell_type": "code",
      "execution_count": 27,
      "metadata": {
        "id": "T0_BMc9dTj0S"
      },
      "outputs": [],
      "source": [
        "def bi_lstm():\n",
        "    model = Sequential()\n",
        "    model.add(Embedding(input_dim=vocab_size, output_dim=embedding_dim, input_length=max_len))\n",
        "    model.add(Bidirectional(LSTM(512, return_sequences=True)))\n",
        "    model.add(Bidirectional(LSTM(256)))\n",
        "    model.add(Dropout(0.3))\n",
        "    model.add(Dense(3, activation='softmax'))\n",
        "    model.compile(loss='categorical_crossentropy', optimizer=Adam(0.0001), metrics='accuracy')\n",
        "    return model"
      ]
    },
    {
      "cell_type": "code",
      "execution_count": 28,
      "metadata": {
        "id": "IDc2kGPWTk9r",
        "colab": {
          "base_uri": "https://localhost:8080/",
          "height": 1000
        },
        "outputId": "3720e36c-31ea-4203-b1d8-879180f51be7"
      },
      "outputs": [
        {
          "output_type": "stream",
          "name": "stdout",
          "text": [
            "Epoch 1/30\n",
            "217/217 [==============================] - 29s 99ms/step - loss: 0.8306 - accuracy: 0.6158 - val_loss: 0.5709 - val_accuracy: 0.7800\n",
            "Epoch 2/30\n"
          ]
        },
        {
          "output_type": "stream",
          "name": "stderr",
          "text": [
            "/usr/local/lib/python3.10/dist-packages/keras/src/engine/training.py:3103: UserWarning: You are saving your model as an HDF5 file via `model.save()`. This file format is considered legacy. We recommend using instead the native Keras format, e.g. `model.save('my_model.keras')`.\n",
            "  saving_api.save_model(\n"
          ]
        },
        {
          "output_type": "stream",
          "name": "stdout",
          "text": [
            "217/217 [==============================] - 13s 59ms/step - loss: 0.4995 - accuracy: 0.8110 - val_loss: 0.5216 - val_accuracy: 0.7991\n",
            "Epoch 3/30\n",
            "217/217 [==============================] - 11s 53ms/step - loss: 0.4318 - accuracy: 0.8420 - val_loss: 0.5265 - val_accuracy: 0.8012\n",
            "Epoch 4/30\n",
            "217/217 [==============================] - 11s 53ms/step - loss: 0.4003 - accuracy: 0.8529 - val_loss: 0.5492 - val_accuracy: 0.7955\n",
            "Epoch 5/30\n",
            "217/217 [==============================] - 11s 52ms/step - loss: 0.3729 - accuracy: 0.8658 - val_loss: 0.5385 - val_accuracy: 0.8018\n"
          ]
        },
        {
          "output_type": "display_data",
          "data": {
            "text/plain": [
              "<Figure size 640x480 with 1 Axes>"
            ],
            "image/png": "[encoded data removed]"
          },
          "metadata": {}
        },
        {
          "output_type": "display_data",
          "data": {
            "text/plain": [
              "<Figure size 640x480 with 1 Axes>"
            ],
            "image/png": "[encoded data removed]"
          },
          "metadata": {}
        },
        {
          "output_type": "stream",
          "name": "stdout",
          "text": [
            "217/217 [==============================] - 3s 7ms/step\n",
            "              precision    recall  f1-score   support\n",
            "\n",
            "           0       0.78      0.84      0.81      2517\n",
            "           1       0.79      0.76      0.78      2189\n",
            "           2       0.84      0.80      0.82      2212\n",
            "\n",
            "    accuracy                           0.80      6918\n",
            "   macro avg       0.80      0.80      0.80      6918\n",
            "weighted avg       0.80      0.80      0.80      6918\n",
            "\n"
          ]
        },
        {
          "output_type": "display_data",
          "data": {
            "text/plain": [
              "<Figure size 640x480 with 1 Axes>"
            ],
            "image/png": "[encoded data removed]"
          },
          "metadata": {}
        },
        {
          "output_type": "stream",
          "name": "stdout",
          "text": [
            "f1 score 0.801378699353395\n"
          ]
        }
      ],
      "source": [
        "bi_lstm_model = bi_lstm()\n",
        "checkpoint_path=\"bi_lstm_model.h5\"\n",
        "keras_callbacks   = [\n",
        "      EarlyStopping(monitor='val_loss', patience=3, mode='min', min_delta=0.0001),\n",
        "      ModelCheckpoint(checkpoint_path, monitor='val_loss', save_best_only=True, mode='min')\n",
        "]\n",
        "history = bi_lstm_model.fit(\n",
        "    x_train, y_train, batch_size=batch_size, epochs=epochs, validation_data=(x_test, y_test), callbacks=keras_callbacks)\n",
        "\n",
        "plot_history(history)\n",
        "f1 = evaluate_model(bi_lstm_model, y_test_true)\n",
        "print(\"f1 score\", f1)"
      ]
    },
    {
      "cell_type": "code",
      "source": [],
      "metadata": {
        "id": "Qf6G0DMAP_wx"
      },
      "execution_count": 28,
      "outputs": []
    }
  ],
  "metadata": {
    "accelerator": "GPU",
    "colab": {
      "gpuType": "T4",
      "provenance": []
    },
    "kernelspec": {
      "display_name": "Python 3",
      "name": "python3"
    },
    "language_info": {
      "name": "python"
    }
  },
  "nbformat": 4,
  "nbformat_minor": 0
}